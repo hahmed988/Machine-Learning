{
  "nbformat": 4,
  "nbformat_minor": 0,
  "metadata": {
    "colab": {
      "provenance": [],
      "authorship_tag": "ABX9TyP8R8E/hHhv+QJygtcttcN1",
      "include_colab_link": true
    },
    "kernelspec": {
      "name": "python3",
      "display_name": "Python 3"
    },
    "language_info": {
      "name": "python"
    }
  },
  "cells": [
    {
      "cell_type": "markdown",
      "metadata": {
        "id": "view-in-github",
        "colab_type": "text"
      },
      "source": [
        "<a href=\"https://colab.research.google.com/github/hahmed988/Machine-Learning/blob/master/Price_Forecast_CaplinPoint.ipynb\" target=\"_parent\"><img src=\"https://colab.research.google.com/assets/colab-badge.svg\" alt=\"Open In Colab\"/></a>"
      ]
    },
    {
      "cell_type": "code",
      "source": [
        "\n",
        "import pandas as pd\n",
        "import yfinance as yf\n",
        "\n",
        "# Fetch historical stock price data\n",
        "data = yf.download('CAPLIPOINT.NS', start='2018-01-01', end='2024-11-30')\n",
        "\n",
        "# Aggregate daily stock prices to a monthly level\n",
        "monthly_data = data['Close'].resample('M').mean()\n",
        "\n",
        "# Check for anomalies, missing values, and consistency\n",
        "print(monthly_data.isnull().sum())  # Check for missing values\n",
        "print(monthly_data.describe())  # Check for anomalies"
      ],
      "metadata": {
        "colab": {
          "base_uri": "https://localhost:8080/"
        },
        "id": "yG4KKEa-sZOx",
        "outputId": "88743db2-8219-455f-d37c-decabc392b6d"
      },
      "execution_count": 9,
      "outputs": [
        {
          "output_type": "stream",
          "name": "stderr",
          "text": [
            "\r[*********************100%***********************]  1 of 1 completed"
          ]
        },
        {
          "output_type": "stream",
          "name": "stdout",
          "text": [
            "Ticker\n",
            "CAPLIPOINT.NS    0\n",
            "dtype: int64\n",
            "Ticker  CAPLIPOINT.NS\n",
            "count       83.000000\n",
            "mean       728.381268\n",
            "std        404.432435\n",
            "min        264.738093\n",
            "25%        421.091129\n",
            "50%        641.263639\n",
            "75%        817.661249\n",
            "max       2026.210539\n"
          ]
        },
        {
          "output_type": "stream",
          "name": "stderr",
          "text": [
            "\n",
            "<ipython-input-9-bb7fa9b9a28d>:8: FutureWarning: 'M' is deprecated and will be removed in a future version, please use 'ME' instead.\n",
            "  monthly_data = data['Close'].resample('M').mean()\n"
          ]
        }
      ]
    },
    {
      "cell_type": "code",
      "source": [
        "!pip install pmdarima"
      ],
      "metadata": {
        "colab": {
          "base_uri": "https://localhost:8080/"
        },
        "id": "qw5uSAYps2ws",
        "outputId": "8ac708d6-c1c9-4069-eae0-78da90bc6674"
      },
      "execution_count": 4,
      "outputs": [
        {
          "output_type": "stream",
          "name": "stdout",
          "text": [
            "Collecting pmdarima\n",
            "  Downloading pmdarima-2.0.4-cp310-cp310-manylinux_2_17_x86_64.manylinux2014_x86_64.manylinux_2_28_x86_64.whl.metadata (7.8 kB)\n",
            "Requirement already satisfied: joblib>=0.11 in /usr/local/lib/python3.10/dist-packages (from pmdarima) (1.4.2)\n",
            "Requirement already satisfied: Cython!=0.29.18,!=0.29.31,>=0.29 in /usr/local/lib/python3.10/dist-packages (from pmdarima) (3.0.11)\n",
            "Requirement already satisfied: numpy>=1.21.2 in /usr/local/lib/python3.10/dist-packages (from pmdarima) (1.26.4)\n",
            "Requirement already satisfied: pandas>=0.19 in /usr/local/lib/python3.10/dist-packages (from pmdarima) (2.2.2)\n",
            "Requirement already satisfied: scikit-learn>=0.22 in /usr/local/lib/python3.10/dist-packages (from pmdarima) (1.5.2)\n",
            "Requirement already satisfied: scipy>=1.3.2 in /usr/local/lib/python3.10/dist-packages (from pmdarima) (1.13.1)\n",
            "Requirement already satisfied: statsmodels>=0.13.2 in /usr/local/lib/python3.10/dist-packages (from pmdarima) (0.14.4)\n",
            "Requirement already satisfied: urllib3 in /usr/local/lib/python3.10/dist-packages (from pmdarima) (2.2.3)\n",
            "Requirement already satisfied: setuptools!=50.0.0,>=38.6.0 in /usr/local/lib/python3.10/dist-packages (from pmdarima) (75.1.0)\n",
            "Requirement already satisfied: packaging>=17.1 in /usr/local/lib/python3.10/dist-packages (from pmdarima) (24.2)\n",
            "Requirement already satisfied: python-dateutil>=2.8.2 in /usr/local/lib/python3.10/dist-packages (from pandas>=0.19->pmdarima) (2.8.2)\n",
            "Requirement already satisfied: pytz>=2020.1 in /usr/local/lib/python3.10/dist-packages (from pandas>=0.19->pmdarima) (2024.2)\n",
            "Requirement already satisfied: tzdata>=2022.7 in /usr/local/lib/python3.10/dist-packages (from pandas>=0.19->pmdarima) (2024.2)\n",
            "Requirement already satisfied: threadpoolctl>=3.1.0 in /usr/local/lib/python3.10/dist-packages (from scikit-learn>=0.22->pmdarima) (3.5.0)\n",
            "Requirement already satisfied: patsy>=0.5.6 in /usr/local/lib/python3.10/dist-packages (from statsmodels>=0.13.2->pmdarima) (1.0.1)\n",
            "Requirement already satisfied: six>=1.5 in /usr/local/lib/python3.10/dist-packages (from python-dateutil>=2.8.2->pandas>=0.19->pmdarima) (1.17.0)\n",
            "Downloading pmdarima-2.0.4-cp310-cp310-manylinux_2_17_x86_64.manylinux2014_x86_64.manylinux_2_28_x86_64.whl (2.1 MB)\n",
            "\u001b[2K   \u001b[90m━━━━━━━━━━━━━━━━━━━━━━━━━━━━━━━━━━━━━━━━\u001b[0m \u001b[32m2.1/2.1 MB\u001b[0m \u001b[31m19.1 MB/s\u001b[0m eta \u001b[36m0:00:00\u001b[0m\n",
            "\u001b[?25hInstalling collected packages: pmdarima\n",
            "Successfully installed pmdarima-2.0.4\n"
          ]
        }
      ]
    },
    {
      "cell_type": "code",
      "source": [
        "\n",
        "from pmdarima import auto_arima\n",
        "\n",
        "# Fit the Auto-ARIMA model\n",
        "model = auto_arima(monthly_data, start_p=1, start_d=1, start_q=1,\n",
        "                   max_p=5, max_d=5, max_q=5, start_P=0,\n",
        "                   seasonal=True, error_action='warn',\n",
        "                   suppress_warnings=True, stepwise=True)\n",
        "\n",
        "# Print the best-fit model parameters\n",
        "print(model.summary())"
      ],
      "metadata": {
        "colab": {
          "base_uri": "https://localhost:8080/"
        },
        "id": "ouqTC0P0sy_2",
        "outputId": "1a1aefa4-4e19-4bbf-8b81-67a0c4875f1f"
      },
      "execution_count": 10,
      "outputs": [
        {
          "output_type": "stream",
          "name": "stdout",
          "text": [
            "                               SARIMAX Results                                \n",
            "==============================================================================\n",
            "Dep. Variable:                      y   No. Observations:                   83\n",
            "Model:               SARIMAX(1, 2, 1)   Log Likelihood                -453.957\n",
            "Date:                Sun, 15 Dec 2024   AIC                            913.915\n",
            "Time:                        09:46:07   BIC                            921.098\n",
            "Sample:                    01-31-2018   HQIC                           916.797\n",
            "                         - 11-30-2024                                         \n",
            "Covariance Type:                  opg                                         \n",
            "==============================================================================\n",
            "                 coef    std err          z      P>|z|      [0.025      0.975]\n",
            "------------------------------------------------------------------------------\n",
            "ar.L1          0.2234      0.127      1.762      0.078      -0.025       0.472\n",
            "ma.L1         -0.9176      0.056    -16.399      0.000      -1.027      -0.808\n",
            "sigma2      4245.3171    559.461      7.588      0.000    3148.793    5341.841\n",
            "===================================================================================\n",
            "Ljung-Box (L1) (Q):                   0.15   Jarque-Bera (JB):                 6.34\n",
            "Prob(Q):                              0.70   Prob(JB):                         0.04\n",
            "Heteroskedasticity (H):               3.67   Skew:                            -0.06\n",
            "Prob(H) (two-sided):                  0.00   Kurtosis:                         4.36\n",
            "===================================================================================\n",
            "\n",
            "Warnings:\n",
            "[1] Covariance matrix calculated using the outer product of gradients (complex-step).\n"
          ]
        }
      ]
    },
    {
      "cell_type": "code",
      "source": [
        "\n",
        "# Forecast the stock prices for the next 12 months\n",
        "forecast = model.predict(n_periods=12)\n",
        "\n",
        "# Print the forecasted values\n",
        "print(forecast)"
      ],
      "metadata": {
        "colab": {
          "base_uri": "https://localhost:8080/"
        },
        "id": "vCkWnY0dszPW",
        "outputId": "014595aa-cfc6-4593-eff5-26eacdaf84f0"
      },
      "execution_count": 11,
      "outputs": [
        {
          "output_type": "stream",
          "name": "stdout",
          "text": [
            "2024-12-31    2100.778835\n",
            "2025-01-31    2166.674341\n",
            "2025-02-28    2230.632232\n",
            "2025-03-31    2294.157235\n",
            "2025-04-30    2357.585526\n",
            "2025-05-31    2420.992209\n",
            "2025-06-30    2484.394065\n",
            "2025-07-31    2547.794842\n",
            "2025-08-31    2611.195379\n",
            "2025-09-30    2674.595862\n",
            "2025-10-31    2737.996333\n",
            "2025-11-30    2801.396801\n",
            "Freq: ME, dtype: float64\n"
          ]
        }
      ]
    },
    {
      "cell_type": "code",
      "source": [
        "# Print the AIC and BIC values\n",
        "print(model.aic)\n",
        "print(model.bic)"
      ],
      "metadata": {
        "colab": {
          "base_uri": "https://localhost:8080/"
        },
        "id": "npuujXfxszSX",
        "outputId": "2390c927-d9dd-4589-ba90-ca6356dafdad"
      },
      "execution_count": 7,
      "outputs": [
        {
          "output_type": "stream",
          "name": "stdout",
          "text": [
            "<bound method ARIMA.aic of ARIMA(order=(1, 1, 0), scoring_args={}, suppress_warnings=True)>\n",
            "<bound method ARIMA.bic of ARIMA(order=(1, 1, 0), scoring_args={}, suppress_warnings=True)>\n"
          ]
        }
      ]
    },
    {
      "cell_type": "code",
      "source": [
        "\n",
        "import matplotlib.pyplot as plt\n",
        "\n",
        "# Plot the historical and forecasted stock prices\n",
        "plt.figure(figsize=(10,6))\n",
        "plt.plot(monthly_data, label='Historical')\n",
        "plt.plot([None for i in monthly_data] + [x for x in forecast], label='Forecast')\n",
        "plt.legend()\n",
        "plt.show()"
      ],
      "metadata": {
        "colab": {
          "base_uri": "https://localhost:8080/",
          "height": 180
        },
        "id": "eMYWQJxEtO1p",
        "outputId": "a9f226e9-6a1c-4e72-8684-f9c894568220"
      },
      "execution_count": 12,
      "outputs": [
        {
          "output_type": "display_data",
          "data": {
            "text/plain": [
              "<Figure size 1000x600 with 1 Axes>"
            ],
            "image/png": "[encoded data removed]"
          },
          "metadata": {}
        }
      ]
    }
  ]
}