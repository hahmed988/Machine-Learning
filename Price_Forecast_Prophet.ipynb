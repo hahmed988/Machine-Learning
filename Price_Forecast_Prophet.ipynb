{
  "nbformat": 4,
  "nbformat_minor": 0,
  "metadata": {
    "colab": {
      "provenance": [],
      "authorship_tag": "ABX9TyNS8sWcUgCoNSsX0oAe9us8",
      "include_colab_link": true
    },
    "kernelspec": {
      "name": "python3",
      "display_name": "Python 3"
    },
    "language_info": {
      "name": "python"
    }
  },
  "cells": [
    {
      "cell_type": "markdown",
      "metadata": {
        "id": "view-in-github",
        "colab_type": "text"
      },
      "source": [
        "<a href=\"https://colab.research.google.com/github/hahmed988/Machine-Learning/blob/master/Price_Forecast_Prophet.ipynb\" target=\"_parent\"><img src=\"https://colab.research.google.com/assets/colab-badge.svg\" alt=\"Open In Colab\"/></a>"
      ]
    },
    {
      "cell_type": "code",
      "source": [
        "\n",
        "!pip install --upgrade --no-deps fbprophet"
      ],
      "metadata": {
        "colab": {
          "base_uri": "https://localhost:8080/"
        },
        "id": "_CVEVUmJI2u1",
        "outputId": "bc30b3c7-7e81-460f-86e5-ea5ba102aff8"
      },
      "execution_count": 15,
      "outputs": [
        {
          "output_type": "stream",
          "name": "stdout",
          "text": [
            "Collecting fbprophet\n",
            "  Using cached fbprophet-0.7.1.tar.gz (64 kB)\n",
            "  Preparing metadata (setup.py) ... \u001b[?25l\u001b[?25hdone\n",
            "Building wheels for collected packages: fbprophet\n",
            "  \u001b[1;31merror\u001b[0m: \u001b[1msubprocess-exited-with-error\u001b[0m\n",
            "  \n",
            "  \u001b[31m×\u001b[0m \u001b[32mpython setup.py bdist_wheel\u001b[0m did not run successfully.\n",
            "  \u001b[31m│\u001b[0m exit code: \u001b[1;36m1\u001b[0m\n",
            "  \u001b[31m╰─>\u001b[0m See above for output.\n",
            "  \n",
            "  \u001b[1;35mnote\u001b[0m: This error originates from a subprocess, and is likely not a problem with pip.\n",
            "  Building wheel for fbprophet (setup.py) ... \u001b[?25lerror\n",
            "\u001b[31m  ERROR: Failed building wheel for fbprophet\u001b[0m\u001b[31m\n",
            "\u001b[0m\u001b[?25h  Running setup.py clean for fbprophet\n",
            "Failed to build fbprophet\n",
            "\u001b[31mERROR: ERROR: Failed to build installable wheels for some pyproject.toml based projects (fbprophet)\u001b[0m\u001b[31m\n",
            "\u001b[0m"
          ]
        }
      ]
    },
    {
      "cell_type": "code",
      "source": [
        "\n",
        "# Import necessary libraries\n",
        "import pandas as pd\n",
        "import numpy as np\n",
        "from sklearn.preprocessing import MinMaxScaler\n",
        "from fbprophet import Prophet\n",
        "from sklearn.metrics import mean_absolute_percentage_error\n",
        "\n",
        "# Load financial data\n",
        "def load_data(file_path):\n",
        "    \"\"\"\n",
        "    Load financial data from a CSV file.\n",
        "\n",
        "    Args:\n",
        "    file_path (str): Path to the CSV file.\n",
        "\n",
        "    Returns:\n",
        "    pandas.DataFrame: Loaded financial data.\n",
        "    \"\"\"\n",
        "    data = pd.read_csv(file_path)\n",
        "    return data\n",
        "\n",
        "# Calculate technical indicators\n",
        "def calculate_indicators(data):\n",
        "    \"\"\"\n",
        "    Calculate technical indicators such as moving averages and RSI.\n",
        "\n",
        "    Args:\n",
        "    data (pandas.DataFrame): Financial data.\n",
        "\n",
        "    Returns:\n",
        "    pandas.DataFrame: Data with technical indicators.\n",
        "    \"\"\"\n",
        "    data['MA_50'] = data['Close'].rolling(window=50).mean()\n",
        "    data['MA_200'] = data['Close'].rolling(window=200).mean()\n",
        "    data['RSI'] = data['Close'].pct_change().rolling(window=14).apply(lambda x: x.ewm(com=13-1, adjust=False).std())\n",
        "    return data\n",
        "\n",
        "# Form the final dataset\n",
        "def form_dataset(data):\n",
        "    \"\"\"\n",
        "    Form the final dataset by selecting relevant features and transforming the data.\n",
        "\n",
        "    Args:\n",
        "    data (pandas.DataFrame): Data with technical indicators.\n",
        "\n",
        "    Returns:\n",
        "    pandas.DataFrame: Final dataset.\n",
        "    \"\"\"\n",
        "    dataset = data[['Date', 'Close', 'MA_50', 'MA_200', 'RSI']]\n",
        "    dataset = dataset.rename(columns={'Date': 'ds', 'Close': 'y'})\n",
        "    return dataset\n",
        "\n",
        "# Train the Prophet model\n",
        "def train_model(dataset):\n",
        "    \"\"\"\n",
        "    Train the Prophet model.\n",
        "\n",
        "    Args:\n",
        "    dataset (pandas.DataFrame): Final dataset.\n",
        "\n",
        "    Returns:\n",
        "    fbprophet.Prophet: Trained Prophet model.\n",
        "    \"\"\"\n",
        "    model = Prophet()\n",
        "    model.fit(dataset)\n",
        "    return model\n",
        "\n",
        "# Generate forecast\n",
        "def generate_forecast(model, periods):\n",
        "    \"\"\"\n",
        "    Generate forecast for the specified number of periods.\n",
        "\n",
        "    Args:\n",
        "    model (fbprophet.Prophet): Trained Prophet model.\n",
        "    periods (int): Number of periods to forecast.\n",
        "\n",
        "    Returns:\n",
        "    pandas.DataFrame: Forecasted data.\n",
        "    \"\"\"\n",
        "    future = model.make_future_dataframe(periods=periods)\n",
        "    forecast = model.predict(future)\n",
        "    return forecast\n",
        "\n",
        "# Evaluate the model\n",
        "def evaluate_model(forecast, actual):\n",
        "    \"\"\"\n",
        "    Evaluate the model using weighted Mean Absolute Percentage Error (MAPE).\n",
        "\n",
        "    Args:\n",
        "    forecast (pandas.DataFrame): Forecasted data.\n",
        "    actual (pandas.DataFrame): Actual data.\n",
        "\n",
        "    Returns:\n",
        "    float: Weighted MAPE.\n",
        "    \"\"\"\n",
        "    weighted_mape = mean_absolute_percentage_error(actual['y'], forecast['yhat'][:len(actual)])\n",
        "    return weighted_mape\n",
        "\n",
        "# Main function\n",
        "def main():\n",
        "    # Load data\n",
        "    data = load_data('caplin_point_lab_data.csv')\n",
        "\n",
        "    # Calculate technical indicators\n",
        "    data = calculate_indicators(data)\n",
        "\n",
        "    # Form the final dataset\n",
        "    dataset = form_dataset(data)\n",
        "\n",
        "    # Train the model\n",
        "    model = train_model(dataset)\n",
        "\n",
        "    # Generate forecast\n",
        "    forecast = generate_forecast(model, periods=12)\n",
        "\n",
        "    # Evaluate the model\n",
        "    weighted_mape = evaluate_model(forecast, dataset)\n",
        "\n",
        "    print(f'Weighted MAPE: {weighted_mape}')\n",
        "\n",
        "if __name__ == '__main__':\n",
        "    main()"
      ],
      "metadata": {
        "colab": {
          "base_uri": "https://localhost:8080/",
          "height": 732
        },
        "id": "gCfP5CWiIuX9",
        "outputId": "7db11fa0-765a-499d-9365-e8c221a1f629"
      },
      "execution_count": 14,
      "outputs": [
        {
          "output_type": "error",
          "ename": "ModuleNotFoundError",
          "evalue": "No module named 'fbprophet'",
          "traceback": [
            "\u001b[0;31m---------------------------------------------------------------------------\u001b[0m",
            "\u001b[0;31mModuleNotFoundError\u001b[0m                       Traceback (most recent call last)",
            "\u001b[0;32m<ipython-input-14-af60ed78fbf5>\u001b[0m in \u001b[0;36m<cell line: 5>\u001b[0;34m()\u001b[0m\n\u001b[1;32m      3\u001b[0m \u001b[0;32mimport\u001b[0m \u001b[0mnumpy\u001b[0m \u001b[0;32mas\u001b[0m \u001b[0mnp\u001b[0m\u001b[0;34m\u001b[0m\u001b[0;34m\u001b[0m\u001b[0m\n\u001b[1;32m      4\u001b[0m \u001b[0;32mfrom\u001b[0m \u001b[0msklearn\u001b[0m\u001b[0;34m.\u001b[0m\u001b[0mpreprocessing\u001b[0m \u001b[0;32mimport\u001b[0m \u001b[0mMinMaxScaler\u001b[0m\u001b[0;34m\u001b[0m\u001b[0;34m\u001b[0m\u001b[0m\n\u001b[0;32m----> 5\u001b[0;31m \u001b[0;32mfrom\u001b[0m \u001b[0mfbprophet\u001b[0m \u001b[0;32mimport\u001b[0m \u001b[0mProphet\u001b[0m\u001b[0;34m\u001b[0m\u001b[0;34m\u001b[0m\u001b[0m\n\u001b[0m\u001b[1;32m      6\u001b[0m \u001b[0;32mfrom\u001b[0m \u001b[0msklearn\u001b[0m\u001b[0;34m.\u001b[0m\u001b[0mmetrics\u001b[0m \u001b[0;32mimport\u001b[0m \u001b[0mmean_absolute_percentage_error\u001b[0m\u001b[0;34m\u001b[0m\u001b[0;34m\u001b[0m\u001b[0m\n\u001b[1;32m      7\u001b[0m \u001b[0;34m\u001b[0m\u001b[0m\n",
            "\u001b[0;31mModuleNotFoundError\u001b[0m: No module named 'fbprophet'",
            "",
            "\u001b[0;31m---------------------------------------------------------------------------\u001b[0;32m\nNOTE: If your import is failing due to a missing package, you can\nmanually install dependencies using either !pip or !apt.\n\nTo view examples of installing some common dependencies, click the\n\"Open Examples\" button below.\n\u001b[0;31m---------------------------------------------------------------------------\u001b[0m\n"
          ],
          "errorDetails": {
            "actions": [
              {
                "action": "open_url",
                "actionText": "Open Examples",
                "url": "/notebooks/snippets/importing_libraries.ipynb"
              }
            ]
          }
        }
      ]
    }
  ]
}